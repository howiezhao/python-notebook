{
 "cells": [
  {
   "cell_type": "markdown",
   "metadata": {},
   "source": [
    "# 函数"
   ]
  },
  {
   "cell_type": "markdown",
   "metadata": {},
   "source": [
    "在 Python 中，函数是**一等对象**。“一等对象”为满足下述条件的程序实体：\n",
    "\n",
    "- 在运行时创建\n",
    "- 能赋值给变量或数据结构中的元素\n",
    "- 能作为参数传给函数\n",
    "- 能作为函数的返回结果\n",
    "\n",
    "人们经常将“把函数视作一等对象”简称为“一等函数”。这样说并不完美，似乎表明这是函数中的特殊群体。在 Python 中，所有函数都是一等对象。"
   ]
  },
  {
   "cell_type": "markdown",
   "metadata": {},
   "source": [
    "函数对象本身是 `function` 类的实例，如下："
   ]
  },
  {
   "cell_type": "code",
   "execution_count": 3,
   "metadata": {},
   "outputs": [
    {
     "data": {
      "text/plain": [
       "function"
      ]
     },
     "execution_count": 3,
     "metadata": {},
     "output_type": "execute_result"
    }
   ],
   "source": [
    "def hello():\n",
    "    print('hello')\n",
    "\n",
    "\n",
    "type(hello)"
   ]
  },
  {
   "cell_type": "markdown",
   "metadata": {},
   "source": [
    "## 高阶函数"
   ]
  },
  {
   "cell_type": "markdown",
   "metadata": {},
   "source": [
    "函数式编程的特点之一是使用高阶函数。接受函数为参数，或者把函数作为结果返回的函数是**高阶函数**（higher-order function）"
   ]
  },
  {
   "cell_type": "markdown",
   "metadata": {},
   "source": [
    "Python 3 中**内置**的高阶函数有：\n",
    "\n",
    "- `sorted()`：可选的 `key` 参数用于提供一个函数，它会应用到各个元素上进行排序，任何单参数函数都能作为 `key` 参数的值\n",
    "- `map()`：`map()` 函数返回一个可迭代对象，里面的元素是把第一个参数（一个函数）应用到第二个参数（一个可迭代对象）中各个元素上得到的结果\n",
    "- `filter()`\n",
    "\n",
    "其次还有 `functools` 模块中的 `reduce()` 函数：\n",
    "\n",
    "- `reduce()`\n",
    "\n",
    "如下："
   ]
  },
  {
   "cell_type": "code",
   "execution_count": 11,
   "metadata": {
    "ExecuteTime": {
     "end_time": "2020-10-23T08:29:18.818752Z",
     "start_time": "2020-10-23T08:29:18.804755Z"
    }
   },
   "outputs": [
    {
     "name": "stdout",
     "output_type": "stream",
     "text": [
      "['apple', 'cherry', 'fig', 'strawberry']\n",
      "['fig', 'apple', 'cherry', 'strawberry']\n",
      "['0', '1', '2', '3', '4']\n"
     ]
    },
    {
     "data": {
      "text/plain": [
       "45"
      ]
     },
     "execution_count": 11,
     "metadata": {},
     "output_type": "execute_result"
    }
   ],
   "source": [
    "fruits = ['strawberry', 'fig', 'apple', 'cherry']\n",
    "print(sorted(fruits))\n",
    "print(sorted(fruits, key=len))\n",
    "\n",
    "\n",
    "print(list(map(str, range(5))))\n",
    "\n",
    "\n",
    "from functools import reduce\n",
    "from operator import add\n",
    "\n",
    "reduce(add, range(10))"
   ]
  },
  {
   "cell_type": "markdown",
   "metadata": {},
   "source": [
    "其中 `map()`、`filter()`、`reduce()` 是函数式编程范式中最为人熟知的高阶函数。\n",
    "\n",
    "在 Python 中，列表推导式或生成器表达式具有 `map()` 和 `filter()` 两个函数的功能，而且更易于阅读。"
   ]
  },
  {
   "cell_type": "markdown",
   "metadata": {},
   "source": [
    "## 归约函数"
   ]
  },
  {
   "cell_type": "markdown",
   "metadata": {},
   "source": [
    "**归约函数** 是把某个操作连续应用到序列的元素上，累计之前的结果，把一系列值**归约**成一个值，Python 中**内置**的归约函数有：\n",
    "\n",
    "- `sum()`\n",
    "- `all(iterable)`：如果 `iterable` 的每个元素都是真值，返回 `True`；`all([])` 返回 `True`。\n",
    "- `any(iterable)`：只要 `iterable` 中有元素是真值，就返回 `True`；`any([])` 返回 `False`。\n",
    "\n",
    "其次还有 `functools` 模块中的 `reduce()` 函数：\n",
    "\n",
    "- `reduce()`\n"
   ]
  },
  {
   "cell_type": "markdown",
   "metadata": {},
   "source": [
    "## 匿名函数"
   ]
  },
  {
   "cell_type": "markdown",
   "metadata": {},
   "source": [
    "为了使用高阶函数，有时创建一次性的小型函数更便利，这便是**匿名函数**存在的原因。"
   ]
  },
  {
   "cell_type": "markdown",
   "metadata": {},
   "source": [
    "Python 简单的句法限制了 `lambda` 函数的定义体只能使用纯表达式。\n",
    "\n",
    "**除了作为参数传给高阶函数之外，Python 很少使用匿名函数。**\n",
    "\n",
    "`lambda` 句法只是语法糖：与 `def` 语句一样，`lambda` 表达式会创建函数对象。"
   ]
  },
  {
   "cell_type": "markdown",
   "metadata": {},
   "source": [
    "## 函数内省"
   ]
  },
  {
   "cell_type": "markdown",
   "metadata": {},
   "source": [
    "函数内省大意指函数知道它自己需要哪些参数，具有哪些属性。"
   ]
  },
  {
   "cell_type": "markdown",
   "metadata": {},
   "source": [
    "## 函数参数"
   ]
  },
  {
   "cell_type": "markdown",
   "metadata": {},
   "source": [
    "### 定位参数"
   ]
  },
  {
   "cell_type": "markdown",
   "metadata": {},
   "source": [
    "### 关键字参数"
   ]
  },
  {
   "cell_type": "markdown",
   "metadata": {},
   "source": [
    "### 仅限关键字参数"
   ]
  },
  {
   "cell_type": "markdown",
   "metadata": {},
   "source": [
    "## 函数注解"
   ]
  },
  {
   "cell_type": "code",
   "execution_count": null,
   "metadata": {},
   "outputs": [],
   "source": []
  }
 ],
 "metadata": {
  "kernelspec": {
   "display_name": "Python 3",
   "language": "python",
   "name": "python3"
  },
  "language_info": {
   "codemirror_mode": {
    "name": "ipython",
    "version": 3
   },
   "file_extension": ".py",
   "mimetype": "text/x-python",
   "name": "python",
   "nbconvert_exporter": "python",
   "pygments_lexer": "ipython3",
   "version": "3.8.3"
  }
 },
 "nbformat": 4,
 "nbformat_minor": 4
}
