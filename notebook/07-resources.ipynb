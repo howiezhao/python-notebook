{
 "cells": [
  {
   "cell_type": "markdown",
   "metadata": {},
   "source": [
    "# 相关资源"
   ]
  },
  {
   "cell_type": "markdown",
   "metadata": {},
   "source": [
    "## 优秀文章"
   ]
  },
  {
   "cell_type": "markdown",
   "metadata": {},
   "source": [
    "[The History of Python](https://python-history.blogspot.com)：\n",
    "\n",
    "- [Origins of Python's \"Functional\" Features](https://python-history.blogspot.com/2009/04/origins-of-pythons-functional-features.html)\n",
    "\n",
    "[Neopythonic](http://neopythonic.blogspot.com/)：\n",
    "\n",
    "- [Tail Recursion Elimination](http://neopythonic.blogspot.com/2009/04/tail-recursion-elimination.html)\n",
    "\n",
    "[函数式编程指引](https://docs.python.org/zh-cn/3/howto/functional.html)\n",
    "\n",
    "[Python 语言参考：3.数据模型](https://docs.python.org/zh-cn/3/reference/datamodel.html)\n",
    "\n",
    "[PEP](https://www.python.org/dev/peps/)\n",
    "\n",
    "- [PEP 227 -- Statically Nested Scopes](https://www.python.org/dev/peps/pep-0227/)\n",
    "- [PEP 318 -- Decorators for Functions and Methods](https://www.python.org/dev/peps/pep-0318/)\n",
    "- [PEP 362 -- Function Signature Object](https://www.python.org/dev/peps/pep-0362/)\n",
    "- [PEP 443 -- Single-dispatch generic functions](https://www.python.org/dev/peps/pep-0443/)\n",
    "- [PEP 3102 -- Keyword-Only Arguments](https://www.python.org/dev/peps/pep-3102/)\n",
    "- [PEP 3104 -- Access to Names in Outer Scopes](https://www.python.org/dev/peps/pep-3104/)\n",
    "- [PEP 3107 -- Function Annotations](https://www.python.org/dev/peps/pep-3107/)\n",
    "\n",
    "Stack Overflow：\n",
    "\n",
    "- [What are good uses for Python3's “Function Annotations](https://stackoverflow.com/a/7811344/6312748)\n",
    "- [What good are Python function annotations? [duplicate]](https://stackoverflow.com/a/13788723/6312748)\n",
    "- [Python: Why is functools.partial necessary?](https://stackoverflow.com/a/3252425/6312748)\n"
   ]
  },
  {
   "cell_type": "markdown",
   "metadata": {},
   "source": [
    "## 社区"
   ]
  },
  {
   "cell_type": "markdown",
   "metadata": {},
   "source": [
    "[Python Special Interest Groups](https://www.python.org/community/sigs/)"
   ]
  },
  {
   "cell_type": "markdown",
   "metadata": {},
   "source": [
    "## 组织"
   ]
  },
  {
   "cell_type": "markdown",
   "metadata": {},
   "source": [
    "[Django](https://github.com/django)\n",
    "\n",
    "[Pallets](https://github.com/pallets)\n",
    "\n",
    "[Zope](https://github.com/zopefoundation)\n",
    "\n",
    "[Encode](https://github.com/encode)\n",
    "\n",
    "[PyCQA](https://github.com/pycqa)\n",
    "\n",
    "[Jazzband](https://github.com/jazzband)"
   ]
  },
  {
   "cell_type": "code",
   "execution_count": null,
   "metadata": {},
   "outputs": [],
   "source": []
  }
 ],
 "metadata": {
  "kernelspec": {
   "display_name": "Python 3",
   "language": "python",
   "name": "python3"
  },
  "language_info": {
   "codemirror_mode": {
    "name": "ipython",
    "version": 3
   },
   "file_extension": ".py",
   "mimetype": "text/x-python",
   "name": "python",
   "nbconvert_exporter": "python",
   "pygments_lexer": "ipython3",
   "version": "3.6.9"
  }
 },
 "nbformat": 4,
 "nbformat_minor": 4
}
