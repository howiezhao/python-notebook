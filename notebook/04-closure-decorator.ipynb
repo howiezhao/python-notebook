{
 "cells": [
  {
   "cell_type": "markdown",
   "metadata": {},
   "source": [
    "# 闭包和装饰器"
   ]
  },
  {
   "cell_type": "markdown",
   "metadata": {},
   "source": [
    "Python 中的装饰器大致分为**函数装饰器**和**类装饰器**。顾名思义，函数装饰器是装饰函数的，类装饰器是装饰类的，不论是函数装饰器还是类装饰器，它们的实现都是函数。\n",
    "\n",
    "装饰器是可调用的对象，其参数是另一个函数（被装饰的函数）或另一个类（被装饰的类）。装饰器可能会处理被装饰的函数或类，然后把它返回，或者将其替换成另一个函数或类或可调用对象。\n",
    "\n",
    "装饰器有两大特性：\n",
    "\n",
    "- 能把被装饰的函数或类替换成其他函数或类\n",
    "- 它们在被装饰的函数或类定义之后立即运行。这通常是在*导入时*，即 Python 加载模块时"
   ]
  },
  {
   "cell_type": "markdown",
   "metadata": {},
   "source": [
    "## 变量作用域"
   ]
  },
  {
   "cell_type": "markdown",
   "metadata": {},
   "source": [
    "在 Python 中，使用 `class`、`def`、`lambda` 会引入一个**本地作用域**（Local），而且本地作用域是可以嵌套的。内层的变量会屏蔽外层，内层找不到的变量会去外层找。\n",
    "\n",
    "**全局作用域**（Global）就是模块内的作用域，它的作用范围是单一文件内。\n",
    "\n",
    "内置函数的作用域就是 `int()`、`list()` 之类的内置函数。"
   ]
  },
  {
   "cell_type": "markdown",
   "metadata": {},
   "source": [
    "Python 的变量作用域遵循 **LEGB** 法则。即当 Python 遇到一个变量的话它会按照这样的顺序进行搜索：\n",
    "\n",
    "1. 本地作用域（Local）\n",
    "2. 当前作用域被嵌入的本地作用域（Enclosing locals）\n",
    "3. 全局/模块作用域（Global）\n",
    "4. 内置作用域（Built-in）\n",
    "\n",
    "如下："
   ]
  },
  {
   "cell_type": "code",
   "execution_count": 5,
   "metadata": {
    "ExecuteTime": {
     "end_time": "2021-03-20T07:47:27.539488Z",
     "start_time": "2021-03-20T07:47:27.526490Z"
    }
   },
   "outputs": [],
   "source": [
    "a1 = 1  # Global\n",
    "class Foo:\n",
    "    a2 = 1  # Local\n",
    "    def func():\n",
    "        a3 = 1  # Local\n",
    "        def _func():\n",
    "            a5 = 1  # Local\n",
    "        for i in range(3):\n",
    "            a4 = 1  # Local，和 a3 在同一个作用域，因为 for 不会引入新的作用域\n",
    "        print(i)  # i=2"
   ]
  },
  {
   "cell_type": "markdown",
   "metadata": {},
   "source": [
    "上述代码中作用域的范围是 `a1` > `a2` > `a3` == `a4` > `a5`，除此之外，因为 `for` 不会引入新的作用域，所以在 `for` 循环外依然可以访问 `i`。\n",
    "\n",
    "再看下面一个例子，首先它会找到局部变量 `a`，并打印 `a` 的值 `3`，其次它会尝试找局部变量 `b`，发现 `b` 在被赋值之前就被引用了，所以会抛出一个错误。"
   ]
  },
  {
   "cell_type": "code",
   "execution_count": 6,
   "metadata": {
    "ExecuteTime": {
     "end_time": "2021-03-20T08:11:09.407096Z",
     "start_time": "2021-03-20T08:11:09.385102Z"
    }
   },
   "outputs": [
    {
     "name": "stdout",
     "output_type": "stream",
     "text": [
      "3\n"
     ]
    },
    {
     "ename": "UnboundLocalError",
     "evalue": "local variable 'b' referenced before assignment",
     "output_type": "error",
     "traceback": [
      "\u001b[1;31m---------------------------------------------------------------------------\u001b[0m",
      "\u001b[1;31mUnboundLocalError\u001b[0m                         Traceback (most recent call last)",
      "\u001b[1;32m<ipython-input-6-6bb96ae01ab2>\u001b[0m in \u001b[0;36m<module>\u001b[1;34m\u001b[0m\n\u001b[0;32m      4\u001b[0m     \u001b[0mprint\u001b[0m\u001b[1;33m(\u001b[0m\u001b[0mb\u001b[0m\u001b[1;33m)\u001b[0m\u001b[1;33m\u001b[0m\u001b[1;33m\u001b[0m\u001b[0m\n\u001b[0;32m      5\u001b[0m     \u001b[0mb\u001b[0m \u001b[1;33m=\u001b[0m \u001b[1;36m9\u001b[0m\u001b[1;33m\u001b[0m\u001b[1;33m\u001b[0m\u001b[0m\n\u001b[1;32m----> 6\u001b[1;33m \u001b[0mf1\u001b[0m\u001b[1;33m(\u001b[0m\u001b[1;36m3\u001b[0m\u001b[1;33m)\u001b[0m\u001b[1;33m\u001b[0m\u001b[1;33m\u001b[0m\u001b[0m\n\u001b[0m",
      "\u001b[1;32m<ipython-input-6-6bb96ae01ab2>\u001b[0m in \u001b[0;36mf1\u001b[1;34m(a)\u001b[0m\n\u001b[0;32m      2\u001b[0m \u001b[1;32mdef\u001b[0m \u001b[0mf1\u001b[0m\u001b[1;33m(\u001b[0m\u001b[0ma\u001b[0m\u001b[1;33m)\u001b[0m\u001b[1;33m:\u001b[0m\u001b[1;33m\u001b[0m\u001b[1;33m\u001b[0m\u001b[0m\n\u001b[0;32m      3\u001b[0m     \u001b[0mprint\u001b[0m\u001b[1;33m(\u001b[0m\u001b[0ma\u001b[0m\u001b[1;33m)\u001b[0m\u001b[1;33m\u001b[0m\u001b[1;33m\u001b[0m\u001b[0m\n\u001b[1;32m----> 4\u001b[1;33m     \u001b[0mprint\u001b[0m\u001b[1;33m(\u001b[0m\u001b[0mb\u001b[0m\u001b[1;33m)\u001b[0m\u001b[1;33m\u001b[0m\u001b[1;33m\u001b[0m\u001b[0m\n\u001b[0m\u001b[0;32m      5\u001b[0m     \u001b[0mb\u001b[0m \u001b[1;33m=\u001b[0m \u001b[1;36m9\u001b[0m\u001b[1;33m\u001b[0m\u001b[1;33m\u001b[0m\u001b[0m\n\u001b[0;32m      6\u001b[0m \u001b[0mf1\u001b[0m\u001b[1;33m(\u001b[0m\u001b[1;36m3\u001b[0m\u001b[1;33m)\u001b[0m\u001b[1;33m\u001b[0m\u001b[1;33m\u001b[0m\u001b[0m\n",
      "\u001b[1;31mUnboundLocalError\u001b[0m: local variable 'b' referenced before assignment"
     ]
    }
   ],
   "source": [
    "b = 6\n",
    "def f1(a):\n",
    "    print(a)\n",
    "    print(b)\n",
    "    b = 9\n",
    "f1(3)"
   ]
  },
  {
   "cell_type": "markdown",
   "metadata": {},
   "source": [
    "如果在函数中赋值时想让解释器把 `b` 当成全局变量，要使用 `global` 声明，即在引用 `b` 之前加上 `global b`。\n",
    "\n",
    "如果去掉 `b = 9` 那条赋值语句，解释器会先尝试找局部变量 `b`，发现找不到，然后按照 LEGB 法则，依次找到全局变量 `b`，所以会正常打印 `b` 的值 `6`，不会出现错误。"
   ]
  },
  {
   "cell_type": "markdown",
   "metadata": {},
   "source": [
    "## 闭包"
   ]
  },
  {
   "cell_type": "markdown",
   "metadata": {},
   "source": [
    "闭包是一种函数，它会保留定义函数时存在的自由变量的绑定，这样调用函数时，虽然定义作用域不可用了，但是仍能使用那些绑定。\n",
    "\n",
    "**自由变量**（free variable）指未在本地作用域中绑定的变量。\n",
    "\n",
    "注意，只有嵌套在其他函数中的函数才可能需要处理不在全局作用域中的外部变量。"
   ]
  },
  {
   "cell_type": "code",
   "execution_count": 14,
   "metadata": {
    "ExecuteTime": {
     "end_time": "2021-03-20T10:24:06.052895Z",
     "start_time": "2021-03-20T10:24:06.036895Z"
    }
   },
   "outputs": [
    {
     "name": "stdout",
     "output_type": "stream",
     "text": [
      "10.0\n",
      "10.5\n"
     ]
    }
   ],
   "source": [
    "def make_averager():\n",
    "    \n",
    "    # averager 的闭包延伸到那个函数的作用域之外，包含自由变量 series 的绑定\n",
    "    series = []\n",
    "    \n",
    "    def averager(new_value):\n",
    "        series.append(new_value)\n",
    "        total = sum(series)\n",
    "        return total/len(series)\n",
    "    \n",
    "    return averager\n",
    "\n",
    "avg = make_averager()\n",
    "\n",
    "print(avg(10))\n",
    "print(avg(11))"
   ]
  },
  {
   "cell_type": "markdown",
   "metadata": {},
   "source": [
    "通俗点说，闭包指延伸了作用域的函数，其中包含函数定义体中引用、但是不在定义体中定义的**非全局变量**。注意这里的非全局变量，函数引用定义体之外的全局变量很常见，但要引用定义体之外的非全局变量往往就和**函数的嵌套**相关联。\n",
    "\n",
    "函数引用定义体之外的非全局变量，除了在函数的嵌套中出现外，还会出现在类中，从这个角度看，闭包是类的方便实现。"
   ]
  },
  {
   "cell_type": "markdown",
   "metadata": {},
   "source": [
    "## 函数装饰器"
   ]
  },
  {
   "cell_type": "markdown",
   "metadata": {},
   "source": [
    "函数装饰器用于在源码中“标记”函数，以某种方式增强函数的行为。"
   ]
  },
  {
   "cell_type": "markdown",
   "metadata": {},
   "source": [
    "函数装饰器在导入模块时立即执行，而被装饰的函数只在明确调用时运行。这突出了 Python 程序员所说的*导入时*和*运行时*之间的区别。"
   ]
  },
  {
   "cell_type": "markdown",
   "metadata": {},
   "source": [
    "装饰器通常在一个模块中定义，然后应用到其他模块中的函数上。\n",
    "\n",
    "大多数装饰器会在内部定义一个函数，然后将其返回，替换被装饰的函数。通常来说，这两者接受相同的参数，而且返回被装饰的函数本该返回的值，同时还会做些额外操作。"
   ]
  },
  {
   "cell_type": "markdown",
   "metadata": {},
   "source": [
    "函数装饰器包括最简单的**注册装饰器**和较复杂的**参数化装饰器**。"
   ]
  },
  {
   "cell_type": "markdown",
   "metadata": {},
   "source": [
    "### 注册装饰器"
   ]
  },
  {
   "cell_type": "code",
   "execution_count": 31,
   "metadata": {
    "ExecuteTime": {
     "end_time": "2021-03-20T11:08:00.030648Z",
     "start_time": "2021-03-20T11:08:00.017643Z"
    }
   },
   "outputs": [
    {
     "name": "stdout",
     "output_type": "stream",
     "text": [
      "before\n",
      "func\n",
      "after\n",
      "------\n",
      "inner\n",
      "======\n",
      "before\n",
      "hello\n",
      "after\n",
      "------\n",
      "inner\n"
     ]
    }
   ],
   "source": [
    "def outer(func):\n",
    "    \n",
    "    def inner(*args, **kwargs):\n",
    "        \n",
    "        print('before')\n",
    "        \n",
    "        result = func(*args, **kwargs)\n",
    "        \n",
    "        print('after')\n",
    "        \n",
    "        return result\n",
    "    \n",
    "    return inner\n",
    "\n",
    "@outer  # func = outer(func)\n",
    "def func1():\n",
    "    print('func')\n",
    "\n",
    "@outer\n",
    "def func2(a):\n",
    "    print(a)\n",
    "\n",
    "func1()\n",
    "print('------')\n",
    "print(func1.__name__)\n",
    "print('======')\n",
    "func2('hello')\n",
    "print('------')\n",
    "print(func2.__name__)"
   ]
  },
  {
   "cell_type": "markdown",
   "metadata": {},
   "source": [
    "### 参数化装饰器"
   ]
  },
  {
   "cell_type": "markdown",
   "metadata": {},
   "source": [
    "## 类装饰器"
   ]
  },
  {
   "cell_type": "markdown",
   "metadata": {},
   "source": [
    "参见第 21 章"
   ]
  },
  {
   "cell_type": "code",
   "execution_count": null,
   "metadata": {},
   "outputs": [],
   "source": []
  }
 ],
 "metadata": {
  "kernelspec": {
   "display_name": "Python 3",
   "language": "python",
   "name": "python3"
  },
  "language_info": {
   "codemirror_mode": {
    "name": "ipython",
    "version": 3
   },
   "file_extension": ".py",
   "mimetype": "text/x-python",
   "name": "python",
   "nbconvert_exporter": "python",
   "pygments_lexer": "ipython3",
   "version": "3.8.3"
  }
 },
 "nbformat": 4,
 "nbformat_minor": 4
}
