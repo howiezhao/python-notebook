{
 "cells": [
  {
   "cell_type": "markdown",
   "metadata": {},
   "source": [
    "# 字典和集合"
   ]
  },
  {
   "cell_type": "markdown",
   "metadata": {},
   "source": []
  },
  {
   "cell_type": "code",
   "execution_count": 17,
   "metadata": {
    "ExecuteTime": {
     "end_time": "2021-03-21T10:31:25.790923Z",
     "start_time": "2021-03-21T10:31:25.773916Z"
    }
   },
   "outputs": [
    {
     "name": "stdout",
     "output_type": "stream",
     "text": [
      "True\n",
      "{<__main__.MyStr object at 0x0000020A455125E0>: 1}\n"
     ]
    },
    {
     "data": {
      "text/plain": [
       "1"
      ]
     },
     "execution_count": 17,
     "metadata": {},
     "output_type": "execute_result"
    }
   ],
   "source": [
    "class MyStr:\n",
    "    __hash__ = object.__hash__\n",
    "    def __init__(self, val):\n",
    "        self.val = val\n",
    "    def __eq__(self, other):\n",
    "        return self.val == other.val\n",
    "    def __hash__(self):\n",
    "        return hash(self.val)\n",
    "a1 = MyStr('a')\n",
    "a2 = MyStr('a')\n",
    "print(a1 == a2)\n",
    "dic = {a1: 1}\n",
    "print(dic)\n",
    "dic[a2]"
   ]
  },
  {
   "cell_type": "code",
   "execution_count": null,
   "metadata": {},
   "outputs": [],
   "source": []
  }
 ],
 "metadata": {
  "kernelspec": {
   "display_name": "Python 3",
   "language": "python",
   "name": "python3"
  },
  "language_info": {
   "codemirror_mode": {
    "name": "ipython",
    "version": 3
   },
   "file_extension": ".py",
   "mimetype": "text/x-python",
   "name": "python",
   "nbconvert_exporter": "python",
   "pygments_lexer": "ipython3",
   "version": "3.8.3"
  }
 },
 "nbformat": 4,
 "nbformat_minor": 4
}
